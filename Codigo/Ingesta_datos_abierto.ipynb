{
 "cells": [
  {
   "cell_type": "markdown",
   "metadata": {
    "application/vnd.databricks.v1+cell": {
     "cellMetadata": {},
     "inputWidgets": {},
     "nuid": "ada272b4-f4c2-4420-b730-5b6cfa5ad91a",
     "showTitle": false,
     "tableResultSettingsMap": {},
     "title": ""
    }
   },
   "source": [
    "# Cuaderno de ingesta de datos\n",
    "En este bloque traeremos la informacipon desde datos abiertos."
   ]
  },
  {
   "cell_type": "code",
   "execution_count": 2,
   "metadata": {
    "application/vnd.databricks.v1+cell": {
     "cellMetadata": {
      "byteLimit": 2048000,
      "rowLimit": 10000
     },
     "inputWidgets": {},
     "nuid": "5a7e91b0-c01c-4aff-9394-8a40b326f89b",
     "showTitle": false,
     "tableResultSettingsMap": {},
     "title": ""
    }
   },
   "outputs": [],
   "source": [
    "import pandas as pd\n",
    "from sodapy import Socrata"
   ]
  },
  {
   "cell_type": "code",
   "execution_count": 8,
   "metadata": {},
   "outputs": [],
   "source": [
    "token = None  \n",
    "codigo_dataset = \"ch4w-5xir\" \n"
   ]
  },
  {
   "cell_type": "code",
   "execution_count": 11,
   "metadata": {},
   "outputs": [
    {
     "name": "stderr",
     "output_type": "stream",
     "text": [
      "WARNING:root:Requests made without an app_token will be subject to strict throttling limits.\n"
     ]
    },
    {
     "name": "stdout",
     "output_type": "stream",
     "text": [
      "                             nombre_entidad nit_entidad  \\\n",
      "0   SENA REGIONAL CAUCA Centro agropecuario   899999034   \n",
      "1              MUNICIPIO MANTA CUNDINAMARCA   800094711   \n",
      "2                    MUNICIPIO DE SINCELEJO   800104062   \n",
      "3                             CANAL CAPITAL   830012587   \n",
      "4  GOBERNACION DE CALDAS - Primero la Gente   890801052   \n",
      "\n",
      "                 departamento       ciudad                      localizaci_n  \\\n",
      "0                       Cauca      Popayán       Colombia,  Cauca ,  Popayán   \n",
      "1                Cundinamarca        Manta  Colombia,  Cundinamarca ,  Manta   \n",
      "2                       Sucre    Sincelejo     Colombia,  Sucre ,  Sincelejo   \n",
      "3  Distrito Capital de Bogotá  No Definido     Colombia, Bogotá, No Definido   \n",
      "4                      Caldas  No Definido   Colombia,  Caldas , No Definido   \n",
      "\n",
      "         orden                  sector                  rama  \\\n",
      "0     Nacional                 Trabajo             Ejecutivo   \n",
      "1  Territorial        Servicio Público             Ejecutivo   \n",
      "2  Territorial        Servicio Público             Ejecutivo   \n",
      "3  Territorial                 Cultura  Corporación Autónoma   \n",
      "4  Territorial  No aplica/No pertenece             Ejecutivo   \n",
      "\n",
      "  entidad_centralizada proceso_de_compra  ... tipo_de_documento_supervisor  \\\n",
      "0      Descentralizada  CO1.BDOS.2544595  ...         Cédula de Ciudadanía   \n",
      "1      Descentralizada  CO1.BDOS.7117742  ...                  No definido   \n",
      "2      Descentralizada  CO1.BDOS.4762105  ...         Cédula de Ciudadanía   \n",
      "3         Centralizada  CO1.BDOS.1903063  ...                  No definido   \n",
      "4         Centralizada  CO1.BDOS.7514473  ...         Cédula de Ciudadanía   \n",
      "\n",
      "  n_mero_de_documento_supervisor nombre_ordenador_de_pago  \\\n",
      "0                       94393013              No definido   \n",
      "1                    No definido              No definido   \n",
      "2                       92510515              No definido   \n",
      "3                    No definido              No definido   \n",
      "4                      750974120              No definido   \n",
      "\n",
      "  tipo_de_documento_ordenador_de_pago n_mero_de_documento_ordenador_de_pago  \\\n",
      "0                         No definido                           No definido   \n",
      "1                         No definido                           No definido   \n",
      "2                         No definido                           No definido   \n",
      "3                         No definido                           No definido   \n",
      "4                         No definido                           No definido   \n",
      "\n",
      "  fecha_de_inicio_de_ejecucion fecha_de_fin_de_ejecucion  \\\n",
      "0                          NaN                       NaN   \n",
      "1                          NaN                       NaN   \n",
      "2                          NaN                       NaN   \n",
      "3                          NaN                       NaN   \n",
      "4                          NaN                       NaN   \n",
      "\n",
      "  fecha_de_notificaci_n_de_prorrogaci_n fecha_inicio_liquidacion  \\\n",
      "0                                   NaN                      NaN   \n",
      "1                                   NaN                      NaN   \n",
      "2                                   NaN                      NaN   \n",
      "3                                   NaN                      NaN   \n",
      "4                                   NaN                      NaN   \n",
      "\n",
      "  fecha_fin_liquidacion  \n",
      "0                   NaN  \n",
      "1                   NaN  \n",
      "2                   NaN  \n",
      "3                   NaN  \n",
      "4                   NaN  \n",
      "\n",
      "[5 rows x 87 columns]\n"
     ]
    }
   ],
   "source": [
    "from sodapy import Socrata\n",
    "import pandas as pd\n",
    "\n",
    "token = None  \n",
    "codigo_dataset = \"jbjy-vk9h\"  # Dataset de ejemplo válido\n",
    "\n",
    "client = Socrata(\"www.datos.gov.co\", token, timeout=1000)\n",
    "results = client.get(codigo_dataset, limit=1000)\n",
    "\n",
    "df = pd.DataFrame.from_records(results)\n",
    "print(df.head())\n",
    "\n"
   ]
  },
  {
   "cell_type": "code",
   "execution_count": null,
   "metadata": {},
   "outputs": [],
   "source": [
    "from pyspark.sql import SparkSession\n",
    "\n",
    "# Crear o usar una sesión de Spark\n",
    "spark = SparkSession.builder \\\n",
    "    .appName(\"Diplomado\") \\\n",
    "    .getOrCreate()\n",
    "\n",
    "# Ahora sí puedes ejecutar consultas\n",
    "df = spark.sql(\"SHOW TABLES\")  # Esto mostrará tablas si tienes un catálogo configurado\n",
    "df.show()\n"
   ]
  },
  {
   "cell_type": "code",
   "execution_count": null,
   "metadata": {},
   "outputs": [],
   "source": [
    "#client = Socrata(\"www.datos.gov.co\", None)\n",
    "\n",
    "token = dbutils.secrets.get(\"claves\",\"token_app\")\n",
    "codigo_dataset = dbutils.widgets.get(\"codigo_dataset\")\n",
    "\n",
    "client = Socrata(\"www.datos.gov.co\",str(token),timeout=1000)"
   ]
  },
  {
   "cell_type": "code",
   "execution_count": null,
   "metadata": {},
   "outputs": [],
   "source": [
    "%sql\n",
    "SHOW TABLES IN main.diplomado_datos;"
   ]
  },
  {
   "cell_type": "code",
   "execution_count": null,
   "metadata": {},
   "outputs": [],
   "source": [
    "%sql\n",
    "CREATE TABLE main.diplomado_datos.ids_contratos_procesos (\n",
    "    nit_de_la_entidad STRING,\n",
    "    otro_campo STRING\n",
    ")\n",
    "USING DELTA;"
   ]
  },
  {
   "cell_type": "code",
   "execution_count": 0,
   "metadata": {
    "application/vnd.databricks.v1+cell": {
     "cellMetadata": {
      "byteLimit": 2048000,
      "rowLimit": 10000
     },
     "inputWidgets": {},
     "nuid": "c3aa4c64-9658-4f5a-848b-566ea7df063d",
     "showTitle": false,
     "tableResultSettingsMap": {},
     "title": ""
    }
   },
   "outputs": [],
   "source": [
    "df_secop_id=spark.table(\"main.diplomado_datos.ids_contratos_procesos\")\n",
    "lista_entidades=df_secop_id.select(\"nit_de_la_entidad\").distinct().collect()\n",
    "len(list(map(lambda x: x.nit_de_la_entidad,lista_entidades)))"
   ]
  },
  {
   "cell_type": "code",
   "execution_count": 0,
   "metadata": {
    "application/vnd.databricks.v1+cell": {
     "cellMetadata": {
      "byteLimit": 2048000,
      "rowLimit": 10000
     },
     "inputWidgets": {},
     "nuid": "a63708eb-82f8-477f-89fa-c22b870103b4",
     "showTitle": false,
     "tableResultSettingsMap": {},
     "title": ""
    }
   },
   "outputs": [],
   "source": [
    "import time\n",
    "\n",
    "mode_write = \"overwrite\"\n",
    "reintentos = 5\n",
    "\n",
    "for entidad in lista_entidades:\n",
    "  intentos = 0\n",
    "  while intentos < reintentos:\n",
    "    try:\n",
    "      query=\"\"\"\n",
    "      SELECT * WHERE nit_de_la_entidad = '{0}'\n",
    "      \"\"\".format(entidad.nit_de_la_entidad)\n",
    "      print(query)\n",
    "      results_entidad=client.get(codigo_dataset,query=query)\n",
    "      df_total=spark.createDataFrame(results_entidad)\n",
    "      df_total.write \\\n",
    "        .format(\"delta\") \\\n",
    "        .mode(mode_write) \\\n",
    "        .option(\"overwriteSchema\", \"true\") \\\n",
    "        .saveAsTable(\"diplomado_datos.secop_bronze\")\n",
    "      mode_write = \"append\"\n",
    "      break\n",
    "    except Exception as e:\n",
    "      intentos += 1\n",
    "      time.sleep(10)\n",
    "      print(\"Error: {0}\".format(e))\n",
    "\n",
    "\n",
    "print(\"Se cargaron todos los contratos\")\n"
   ]
  },
  {
   "cell_type": "code",
   "execution_count": 0,
   "metadata": {
    "application/vnd.databricks.v1+cell": {
     "cellMetadata": {
      "byteLimit": 2048000,
      "rowLimit": 10000
     },
     "inputWidgets": {},
     "nuid": "fc7eb6c6-9f8d-4f30-9995-b39971b8818b",
     "showTitle": false,
     "tableResultSettingsMap": {},
     "title": ""
    }
   },
   "outputs": [],
   "source": [
    "df_secop_id=spark.table(\"main.diplomado_datos.ids_contratos_procesos\")\n",
    "df_secop_id.count()"
   ]
  },
  {
   "cell_type": "code",
   "execution_count": 0,
   "metadata": {
    "application/vnd.databricks.v1+cell": {
     "cellMetadata": {
      "byteLimit": 2048000,
      "rowLimit": 10000
     },
     "inputWidgets": {},
     "nuid": "c86d2214-9ffb-4c30-84e3-6fd3cfeb51e3",
     "showTitle": false,
     "tableResultSettingsMap": {},
     "title": ""
    }
   },
   "outputs": [],
   "source": [
    "\n",
    "# Importar las funciones necesarias de PySpark\n",
    "from pyspark.sql.functions import sha2, concat_ws, col\n",
    "\n",
    "# 1. Cargar la tabla correcta desde el catálogo a un DataFrame\n",
    "# Se asume que esta es la tabla que contiene las columnas que mencionaste.\n",
    "df_secop_id = spark.table(\"main.diplomado_datos.ids_contratos_procesos\")\n",
    "\n",
    "# 2. Definir la lista corregida de columnas para el identificador único\n",
    "columnas_para_hash = [\n",
    "    \"numero_del_contrato\",\n",
    "    \"numero_de_proceso\",\n",
    "    \"nit_de_la_entidad\",\n",
    "    \"documento_proveedor\",\n",
    "    \"estado_del_proceso\"\n",
    "]"
   ]
  },
  {
   "cell_type": "code",
   "execution_count": 0,
   "metadata": {
    "application/vnd.databricks.v1+cell": {
     "cellMetadata": {
      "byteLimit": 2048000,
      "rowLimit": 10000
     },
     "inputWidgets": {},
     "nuid": "d4cb5577-e1fc-4126-a714-39a5e61f98c6",
     "showTitle": false,
     "tableResultSettingsMap": {},
     "title": ""
    }
   },
   "outputs": [],
   "source": [
    "\n",
    "# 3. Añadir la nueva columna 'id_unico'\n",
    "# Se concatenan las columnas clave con un separador y se les aplica un hash SHA-2.\n",
    "df_con_id = df_secop_id.withColumn(\n",
    "    \"id_unico_con_estado\",\n",
    "    sha2(concat_ws(\"||\", *[col(c) for c in columnas_para_hash]), 256)\n",
    ")\n",
    "\n",
    "columnas_para_hash_se = [\n",
    "    \"numero_del_contrato\",\n",
    "    \"numero_de_proceso\",\n",
    "    \"nit_de_la_entidad\",\n",
    "    \"documento_proveedor\"\n",
    "]\n",
    "df_con_id = df_con_id.withColumn(\n",
    "    \"id_unico_sin_estado\",\n",
    "    sha2(concat_ws(\"||\", *[col(c) for c in columnas_para_hash_se]), 256)\n",
    ")\n",
    "df_con_id.display()\n",
    "     "
   ]
  },
  {
   "cell_type": "code",
   "execution_count": 0,
   "metadata": {
    "application/vnd.databricks.v1+cell": {
     "cellMetadata": {
      "byteLimit": 2048000,
      "rowLimit": 10000
     },
     "inputWidgets": {},
     "nuid": "de4bd42e-7bca-47c8-a81d-f249b3adf853",
     "showTitle": false,
     "tableResultSettingsMap": {},
     "title": ""
    }
   },
   "outputs": [],
   "source": [
    "df_con_id.write \\\n",
    "    .format(\"delta\") \\\n",
    "    .mode(\"overwrite\") \\\n",
    "    .option(\"overwriteSchema\", \"true\") \\\n",
    "    .saveAsTable(\"diplomado_datos.secop_id_bronze\")"
   ]
  }
 ],
 "metadata": {
  "application/vnd.databricks.v1+notebook": {
   "computePreferences": {
    "hardware": {
     "accelerator": null,
     "gpuPoolId": null,
     "memory": null
    }
   },
   "dashboards": [],
   "environmentMetadata": {
    "base_environment": "",
    "dependencies": [
     "sodapy == 2.2.0"
    ],
    "environment_version": "2"
   },
   "inputWidgetPreferences": null,
   "language": "python",
   "notebookMetadata": {
    "mostRecentlyExecutedCommandWithImplicitDF": {
     "commandId": 6031869309004664,
     "dataframes": [
      "_sqldf"
     ]
    },
    "pythonIndentUnit": 4
   },
   "notebookName": "Ingesta_Datos.ipynb",
   "widgets": {
    "codigo_dataset": {
     "currentValue": "rpmr-utcd",
     "nuid": "3ca0b426-430f-486f-bec1-6d2aa78f8349",
     "typedWidgetInfo": {
      "autoCreated": false,
      "defaultValue": "rpmr-utcd",
      "label": "",
      "name": "codigo_dataset",
      "options": {
       "validationRegex": null,
       "widgetDisplayType": "Text"
      },
      "parameterDataType": "String"
     },
     "widgetInfo": {
      "defaultValue": "rpmr-utcd",
      "label": "",
      "name": "codigo_dataset",
      "options": {
       "autoCreated": false,
       "validationRegex": null,
       "widgetType": "text"
      },
      "widgetType": "text"
     }
    }
   }
  },
  "kernelspec": {
   "display_name": "diplomado_env",
   "language": "python",
   "name": "python3"
  },
  "language_info": {
   "codemirror_mode": {
    "name": "ipython",
    "version": 3
   },
   "file_extension": ".py",
   "mimetype": "text/x-python",
   "name": "python",
   "nbconvert_exporter": "python",
   "pygments_lexer": "ipython3",
   "version": "3.11.13"
  }
 },
 "nbformat": 4,
 "nbformat_minor": 0
}
